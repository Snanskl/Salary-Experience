{
 "cells": [
  {
   "cell_type": "markdown",
   "metadata": {},
   "source": [
    "# Polynomial Regression\n",
    "What is a polymial regression??  \n",
    "Answer here: "
   ]
  },
  {
   "cell_type": "code",
   "execution_count": 37,
   "metadata": {},
   "outputs": [],
   "source": [
    "import numpy as np\n",
    "import matplotlib.pyplot as plt # for plotting, for visualizations\n",
    "import pandas as pd # for data manipulation and analysis"
   ]
  },
  {
   "cell_type": "markdown",
   "metadata": {},
   "source": [
    "## Importing the dataset"
   ]
  },
  {
   "cell_type": "code",
   "execution_count": 38,
   "metadata": {},
   "outputs": [],
   "source": [
    "dataset = pd.read_csv('Data - Copy.csv')\n",
    "\n",
    "#dataset.iloc[row_index, column_index]\n",
    "X = dataset.iloc[:, :-1].values\n",
    "#iloc[:, :-1].values means that we are taking all the rows and all the columns except the last one\n",
    "\n",
    "Y = dataset.iloc[:, 1].values\n",
    "#[:, 1] means that we are taking all the rows and the second column"
   ]
  },
  {
   "cell_type": "code",
   "execution_count": 39,
   "metadata": {},
   "outputs": [
    {
     "name": "stdout",
     "output_type": "stream",
     "text": [
      "    Country   Age   Salary PurchasedProduct\n",
      "0   Finland  42.0  45000.0              yes\n",
      "1   Finland  45.0  39000.0              yes\n",
      "2   Finland  30.0  30000.0              yes\n",
      "3   Finland  34.0  41000.0              yes\n",
      "4    Sweden  49.0  48000.0              yes\n",
      "5    Sweden  40.0  38000.0              yes\n",
      "6    Sweden  30.0  31000.0               no\n",
      "7    Sweden  35.0  35000.0               no\n",
      "8    Sweden  31.0  40000.0              yes\n",
      "9    Sweden  35.0  37000.0               no\n",
      "10   Sweden  36.0  35000.0               no\n",
      "11   Sweden  36.0      NaN               no\n",
      "12   Norway  45.0  46000.0              yes\n",
      "13   Norway  39.0  33000.0               no\n",
      "14   Norway  33.0  31000.0               no\n",
      "15   Norway  32.0  42000.0              yes\n",
      "16   Norway  37.0  35000.0               no\n",
      "17   Norway  34.0  36000.0               no\n",
      "18   Norway   NaN  39000.0               no\n",
      "<class 'numpy.ndarray'>\n"
     ]
    }
   ],
   "source": [
    "print(dataset)\n",
    "print(type(X))"
   ]
  },
  {
   "cell_type": "code",
   "execution_count": 40,
   "metadata": {},
   "outputs": [],
   "source": [
    "from sklearn.impute import SimpleImputer\n",
    "imputer = SimpleImputer(missing_values=np.nan, strategy='mean') #missing_values=np.nan means that we are replacing the missing values with NaN\n",
    "imputer = imputer.fit(X[:, 1:3]) #fitting the imputer object to the matrix X\n",
    "X[:, 1:3] = imputer.transform(X[:, 1:3]) #transforming the matrix X"
   ]
  },
  {
   "cell_type": "code",
   "execution_count": 41,
   "metadata": {},
   "outputs": [
    {
     "name": "stdout",
     "output_type": "stream",
     "text": [
      "[['Finland' 42.0 45000.0]\n",
      " ['Finland' 45.0 39000.0]\n",
      " ['Finland' 30.0 30000.0]\n",
      " ['Finland' 34.0 41000.0]\n",
      " ['Sweden' 49.0 48000.0]\n",
      " ['Sweden' 40.0 38000.0]\n",
      " ['Sweden' 30.0 31000.0]\n",
      " ['Sweden' 35.0 35000.0]\n",
      " ['Sweden' 31.0 40000.0]\n",
      " ['Sweden' 35.0 37000.0]\n",
      " ['Sweden' 36.0 35000.0]\n",
      " ['Sweden' 36.0 37833.333333333336]\n",
      " ['Norway' 45.0 46000.0]\n",
      " ['Norway' 39.0 33000.0]\n",
      " ['Norway' 33.0 31000.0]\n",
      " ['Norway' 32.0 42000.0]\n",
      " ['Norway' 37.0 35000.0]\n",
      " ['Norway' 34.0 36000.0]\n",
      " ['Norway' 36.833333333333336 39000.0]]\n",
      "<class 'numpy.ndarray'>\n"
     ]
    }
   ],
   "source": [
    "print(X)\n",
    "print(type(X))"
   ]
  },
  {
   "cell_type": "code",
   "execution_count": 42,
   "metadata": {},
   "outputs": [],
   "source": [
    "from sklearn.compose import ColumnTransformer #ColumnTransformer is a class that helps in transforming the columns\n",
    "from sklearn.preprocessing import OneHotEncoder\n",
    "\n",
    "ct = ColumnTransformer(transformers=[('encoder', OneHotEncoder(), [0])], remainder='passthrough') \n",
    "# transformer means that we are transforming the data, \n",
    "# encoding mean that we are converting the data into a form that can be used by the machine learning model\n",
    "# OneHotEncoder is a class that helps in encoding the data\n",
    "# [0] means that we are encoding the first column, \n",
    "# remainder='passthrough' means that we are keeping the remaining columns as they are\n",
    "\n",
    "X = np.array(ct.fit_transform(X))\n",
    "#fit_transform means that we are fitting the data and transforming it"
   ]
  },
  {
   "cell_type": "code",
   "execution_count": 43,
   "metadata": {},
   "outputs": [
    {
     "name": "stdout",
     "output_type": "stream",
     "text": [
      "[[1.0 0.0 0.0 42.0 45000.0]\n",
      " [1.0 0.0 0.0 45.0 39000.0]\n",
      " [1.0 0.0 0.0 30.0 30000.0]\n",
      " [1.0 0.0 0.0 34.0 41000.0]\n",
      " [0.0 0.0 1.0 49.0 48000.0]\n",
      " [0.0 0.0 1.0 40.0 38000.0]\n",
      " [0.0 0.0 1.0 30.0 31000.0]\n",
      " [0.0 0.0 1.0 35.0 35000.0]\n",
      " [0.0 0.0 1.0 31.0 40000.0]\n",
      " [0.0 0.0 1.0 35.0 37000.0]\n",
      " [0.0 0.0 1.0 36.0 35000.0]\n",
      " [0.0 0.0 1.0 36.0 37833.333333333336]\n",
      " [0.0 1.0 0.0 45.0 46000.0]\n",
      " [0.0 1.0 0.0 39.0 33000.0]\n",
      " [0.0 1.0 0.0 33.0 31000.0]\n",
      " [0.0 1.0 0.0 32.0 42000.0]\n",
      " [0.0 1.0 0.0 37.0 35000.0]\n",
      " [0.0 1.0 0.0 34.0 36000.0]\n",
      " [0.0 1.0 0.0 36.833333333333336 39000.0]]\n"
     ]
    }
   ],
   "source": [
    "print(X)"
   ]
  }
 ],
 "metadata": {
  "kernelspec": {
   "display_name": "Python 3",
   "language": "python",
   "name": "python3"
  },
  "language_info": {
   "codemirror_mode": {
    "name": "ipython",
    "version": 3
   },
   "file_extension": ".py",
   "mimetype": "text/x-python",
   "name": "python",
   "nbconvert_exporter": "python",
   "pygments_lexer": "ipython3",
   "version": "3.12.0"
  }
 },
 "nbformat": 4,
 "nbformat_minor": 2
}
