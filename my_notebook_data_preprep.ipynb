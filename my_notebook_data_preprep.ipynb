{
 "cells": [
  {
   "cell_type": "markdown",
   "id": "c265550c",
   "metadata": {},
   "source": [
    "# Data prep Excersise"
   ]
  },
  {
   "cell_type": "markdown",
   "id": "03d1fcaa",
   "metadata": {},
   "source": [
    "## Importing Libraries"
   ]
  },
  {
   "cell_type": "code",
   "execution_count": 45,
   "id": "86b596bc",
   "metadata": {},
   "outputs": [],
   "source": [
    "import numpy as np # helps working with complex data structures, e-g- arrays\n",
    "import matplotlib.pyplot as plt # plotting data\n",
    "import pandas as pd # data frames"
   ]
  },
  {
   "cell_type": "markdown",
   "id": "9aae3f30",
   "metadata": {},
   "source": [
    "## Importing Data"
   ]
  },
  {
   "cell_type": "code",
   "execution_count": 46,
   "id": "83ed4af5",
   "metadata": {},
   "outputs": [],
   "source": [
    "dataset = pd.read_csv('Data - Copy.csv') # Todo: rename text string to your data file.\n",
    "# dependent variable, or the 'outcome' (y) is often the LAST column.\n",
    "# independent variables, or the 'features' (x) are the rest of the columns.\n",
    "X = dataset.iloc[:, :-1].values # locate indexes = iloc, ':' range, all rows\n",
    "# python include, lower bounds in ranges, but exclude upper bounds.\n",
    "# skip 'values' to just print the data\n",
    "y = dataset.iloc[:, -1].values # this will only get the last column"
   ]
  },
  {
   "cell_type": "code",
   "execution_count": 47,
   "id": "b2d18a82",
   "metadata": {},
   "outputs": [
    {
     "name": "stdout",
     "output_type": "stream",
     "text": [
      "    Country   Age   Salary PurchasedProduct\n",
      "0   Finland  42.0  45000.0              yes\n",
      "1   Finland  45.0  39000.0              yes\n",
      "2   Finland  30.0  30000.0              yes\n",
      "3   Finland  34.0  41000.0              yes\n",
      "4    Sweden  49.0  48000.0              yes\n",
      "5    Sweden  40.0  38000.0              yes\n",
      "6    Sweden  30.0  31000.0               no\n",
      "7    Sweden  35.0  35000.0               no\n",
      "8    Sweden  31.0  40000.0              yes\n",
      "9    Sweden  35.0  37000.0               no\n",
      "10   Sweden  36.0  35000.0               no\n",
      "11   Sweden  36.0      NaN               no\n",
      "12   Norway  45.0  46000.0              yes\n",
      "13   Norway  39.0  33000.0               no\n",
      "14   Norway  33.0  31000.0               no\n",
      "15   Norway  32.0  42000.0              yes\n",
      "16   Norway  37.0  35000.0               no\n",
      "17   Norway  34.0  36000.0               no\n",
      "18   Norway   NaN  39000.0               no\n",
      "<class 'numpy.ndarray'>\n"
     ]
    }
   ],
   "source": [
    "print(dataset)\n",
    "print(type(X))\n"
   ]
  },
  {
   "cell_type": "code",
   "execution_count": 48,
   "id": "72859639-b347-4f45-9c44-7638884b3071",
   "metadata": {},
   "outputs": [],
   "source": [
    "# All from Finland buys.\n",
    "# All customers over 40 buys.\n",
    "# All customers with salary over 40 buys."
   ]
  },
  {
   "cell_type": "markdown",
   "id": "aed9d764",
   "metadata": {},
   "source": [
    "## Handle missing Data"
   ]
  },
  {
   "cell_type": "code",
   "execution_count": 49,
   "id": "cacedd1a",
   "metadata": {},
   "outputs": [],
   "source": [
    "from sklearn.impute import SimpleImputer\n",
    "imputer = SimpleImputer(missing_values=np.nan, strategy='mean')\n",
    "imputer.fit(X[:,1:3])\n",
    "X[:,1:3] = imputer.transform(X[:,1:3])"
   ]
  },
  {
   "cell_type": "code",
   "execution_count": 50,
   "id": "c8e97faa",
   "metadata": {},
   "outputs": [
    {
     "name": "stdout",
     "output_type": "stream",
     "text": [
      "[['Finland' 42.0 45000.0]\n",
      " ['Finland' 45.0 39000.0]\n",
      " ['Finland' 30.0 30000.0]\n",
      " ['Finland' 34.0 41000.0]\n",
      " ['Sweden' 49.0 48000.0]\n",
      " ['Sweden' 40.0 38000.0]\n",
      " ['Sweden' 30.0 31000.0]\n",
      " ['Sweden' 35.0 35000.0]\n",
      " ['Sweden' 31.0 40000.0]\n",
      " ['Sweden' 35.0 37000.0]\n",
      " ['Sweden' 36.0 35000.0]\n",
      " ['Sweden' 36.0 37833.333333333336]\n",
      " ['Norway' 45.0 46000.0]\n",
      " ['Norway' 39.0 33000.0]\n",
      " ['Norway' 33.0 31000.0]\n",
      " ['Norway' 32.0 42000.0]\n",
      " ['Norway' 37.0 35000.0]\n",
      " ['Norway' 34.0 36000.0]\n",
      " ['Norway' 36.833333333333336 39000.0]]\n",
      "<class 'numpy.ndarray'>\n"
     ]
    }
   ],
   "source": [
    "print(X)\n",
    "print(type(X))"
   ]
  },
  {
   "cell_type": "markdown",
   "id": "4a6f03c7",
   "metadata": {},
   "source": [
    "# Encoding Categorical Data"
   ]
  },
  {
   "cell_type": "markdown",
   "id": "ca7e7294",
   "metadata": {},
   "source": [
    "## Encoding the Independent Variable (x)"
   ]
  },
  {
   "cell_type": "code",
   "execution_count": 51,
   "id": "d9f3e8d1",
   "metadata": {},
   "outputs": [],
   "source": [
    "from sklearn.compose import ColumnTransformer\n",
    "from sklearn.preprocessing import OneHotEncoder\n",
    "\n",
    "# [0] : index 0, first column.\n",
    "# passthrough meaning we will leave the other columns untouched.\n",
    "ct = ColumnTransformer(transformers=[('encoder', OneHotEncoder(), [0])], remainder='passthrough')\n",
    "\n",
    "X = np.array(ct.fit_transform(X))"
   ]
  },
  {
   "cell_type": "code",
   "execution_count": 52,
   "id": "38ae7e55",
   "metadata": {},
   "outputs": [
    {
     "name": "stdout",
     "output_type": "stream",
     "text": [
      "[[1.0 0.0 0.0 42.0 45000.0]\n",
      " [1.0 0.0 0.0 45.0 39000.0]\n",
      " [1.0 0.0 0.0 30.0 30000.0]\n",
      " [1.0 0.0 0.0 34.0 41000.0]\n",
      " [0.0 0.0 1.0 49.0 48000.0]\n",
      " [0.0 0.0 1.0 40.0 38000.0]\n",
      " [0.0 0.0 1.0 30.0 31000.0]\n",
      " [0.0 0.0 1.0 35.0 35000.0]\n",
      " [0.0 0.0 1.0 31.0 40000.0]\n",
      " [0.0 0.0 1.0 35.0 37000.0]\n",
      " [0.0 0.0 1.0 36.0 35000.0]\n",
      " [0.0 0.0 1.0 36.0 37833.333333333336]\n",
      " [0.0 1.0 0.0 45.0 46000.0]\n",
      " [0.0 1.0 0.0 39.0 33000.0]\n",
      " [0.0 1.0 0.0 33.0 31000.0]\n",
      " [0.0 1.0 0.0 32.0 42000.0]\n",
      " [0.0 1.0 0.0 37.0 35000.0]\n",
      " [0.0 1.0 0.0 34.0 36000.0]\n",
      " [0.0 1.0 0.0 36.833333333333336 39000.0]]\n"
     ]
    }
   ],
   "source": [
    "print(X)"
   ]
  },
  {
   "cell_type": "markdown",
   "id": "b810ea10",
   "metadata": {},
   "source": [
    "## Encoding the Dependent Variable (y)"
   ]
  },
  {
   "cell_type": "code",
   "execution_count": 53,
   "id": "e3f4be3f",
   "metadata": {},
   "outputs": [],
   "source": [
    "from sklearn.preprocessing import LabelEncoder\n",
    "le = LabelEncoder()\n",
    "y = le.fit_transform(y) # a np.array is not needed here."
   ]
  },
  {
   "cell_type": "code",
   "execution_count": 54,
   "id": "06b48230",
   "metadata": {},
   "outputs": [
    {
     "name": "stdout",
     "output_type": "stream",
     "text": [
      "[1 1 1 1 1 1 0 0 1 0 0 0 1 0 0 1 0 0 0]\n"
     ]
    }
   ],
   "source": [
    "print(y)"
   ]
  },
  {
   "cell_type": "markdown",
   "id": "8b1efae5",
   "metadata": {},
   "source": [
    "## Splitting the Dataset into Training and Test datasets"
   ]
  },
  {
   "cell_type": "markdown",
   "id": "dfbfb802",
   "metadata": {},
   "source": [
    "\n",
    "Splitting the data means that the training set will be used for training our algorithm(s). \n",
    "The test set will be the set we are using for evaluation of the model we created from the training set.\n",
    "\n",
    "Note! \n",
    "Feature scaling should be applied after the split.\n",
    "The reason why feature scaling will happen after the split, is that the test set should be considered as totally new data.\n",
    "This new data should not be \"biased\" by that manipulation.\n",
    "Feature scaling often includes getting e.g. the 'mean' value of something, if the test data set is included in this, \n",
    "it will make the training biased. Once again, the test set should be viewed as totally new data that arrives!\n",
    "\n",
    "When information from the test set is interfering with the training set, it is called **information leakage**!\n",
    "\n",
    "Note! Feature scaling is ALWAYS after the split!!!"
   ]
  },
  {
   "cell_type": "code",
   "execution_count": 55,
   "id": "c3161202",
   "metadata": {},
   "outputs": [],
   "source": [
    "# The library will split the data into 4 sets! x, x_test, y and y_test. \n",
    "# Split is betwenn test/data and dependent/independent variables.\n",
    "from sklearn.model_selection import train_test_split\n",
    "\n",
    "# Split 80% training obeservation data, 20% will be test.\n",
    "# random_state ensure that the split will be the same each time we run it, to re-try our model during development.\n",
    "X_train, X_test, y_train, y_test = train_test_split(X, y, test_size=0.2, random_state = 1)\n"
   ]
  },
  {
   "cell_type": "code",
   "execution_count": 56,
   "id": "afc5e309",
   "metadata": {},
   "outputs": [
    {
     "name": "stdout",
     "output_type": "stream",
     "text": [
      "[[1.0 0.0 0.0 30.0 30000.0]\n",
      " [0.0 1.0 0.0 33.0 31000.0]\n",
      " [0.0 0.0 1.0 49.0 48000.0]\n",
      " [0.0 1.0 0.0 37.0 35000.0]\n",
      " [0.0 0.0 1.0 35.0 35000.0]\n",
      " [1.0 0.0 0.0 45.0 39000.0]\n",
      " [0.0 1.0 0.0 39.0 33000.0]\n",
      " [1.0 0.0 0.0 42.0 45000.0]\n",
      " [0.0 1.0 0.0 36.833333333333336 39000.0]\n",
      " [0.0 1.0 0.0 34.0 36000.0]\n",
      " [0.0 0.0 1.0 35.0 37000.0]\n",
      " [0.0 0.0 1.0 31.0 40000.0]\n",
      " [0.0 1.0 0.0 45.0 46000.0]\n",
      " [0.0 0.0 1.0 36.0 37833.333333333336]\n",
      " [0.0 0.0 1.0 40.0 38000.0]]\n"
     ]
    }
   ],
   "source": [
    "print(X_train)"
   ]
  },
  {
   "cell_type": "code",
   "execution_count": 57,
   "id": "55e237a0",
   "metadata": {},
   "outputs": [
    {
     "name": "stdout",
     "output_type": "stream",
     "text": [
      "[[1.0 0.0 0.0 34.0 41000.0]\n",
      " [0.0 1.0 0.0 32.0 42000.0]\n",
      " [0.0 0.0 1.0 30.0 31000.0]\n",
      " [0.0 0.0 1.0 36.0 35000.0]]\n"
     ]
    }
   ],
   "source": [
    "print(X_test)"
   ]
  },
  {
   "cell_type": "code",
   "execution_count": 58,
   "id": "6d1382d4",
   "metadata": {},
   "outputs": [
    {
     "name": "stdout",
     "output_type": "stream",
     "text": [
      "[1 0 1 0 0 1 0 1 0 0 0 1 1 0 1]\n"
     ]
    }
   ],
   "source": [
    "print(y_train)"
   ]
  },
  {
   "cell_type": "code",
   "execution_count": 59,
   "id": "e2593263",
   "metadata": {},
   "outputs": [
    {
     "name": "stdout",
     "output_type": "stream",
     "text": [
      "[1 1 0 0]\n"
     ]
    }
   ],
   "source": [
    "print(y_test)"
   ]
  },
  {
   "cell_type": "markdown",
   "id": "90203b0f",
   "metadata": {},
   "source": [
    "# Feature Scaling\n",
    "- Avoid biases in the scale of numbers. e.g. selling house, square meter vs prize. One feature migh be too dominant because of its large or low number.\n",
    "- Main two feature scaling techniques: Standardisation or Normalistation\n",
    "- Standardisation: all values minus the mean of the values, divided by the standard deviation.\n",
    "    - Results in values between -3 and +3.\n",
    "- Normalisation: all values minus the min value in the data set divided by the differense between max and min value.\n",
    "    - Results: all values between 0 and 1\n",
    "- Normalisation vs. Standardisation\n",
    "    - Normalisation is the recommended one if your data is normally distributed.\n",
    "    - Standardisation will always work.\n",
    "    - Normalisation is only better on certain data sets.\n",
    "    - Stick with standardisation, it is more pragmatic.\n",
    "- The feature scaling will be APPLIED to the test set, but we are NOT allowed to use that data during training. This is extremely important.\n"
   ]
  },
  {
   "cell_type": "markdown",
   "id": "86576ae5",
   "metadata": {},
   "source": [
    "## Standardisation\n",
    "$$X_{stand} = \\cfrac{x-mean(x)}{standard deviation(x)}$$\n",
    "## Normalisation\n",
    "$$X_{norm} = \\cfrac{x-min(x)}{max(x)-min(x)}$$"
   ]
  },
  {
   "cell_type": "markdown",
   "id": "4f4f5cb6",
   "metadata": {},
   "source": [
    "## Standard Scaling\n",
    "- Standard Scaling, pragmatic choice that will always work.\n",
    "- Do we need to apply the featur scaling to the dummy variables in the data? - answer is NO.\n",
    "    - The reason is that e.g. HotEncoding is already making the values 'standardized'. They are already in the same range and so, not biased. If applied, it will only make things worse actually!"
   ]
  },
  {
   "cell_type": "code",
   "execution_count": 60,
   "id": "4a4ea586",
   "metadata": {},
   "outputs": [],
   "source": [
    "from sklearn.preprocessing import StandardScaler\n",
    "\n",
    "# Will automatically apply the correct function.\n",
    "sc = StandardScaler() \n",
    "# fit and transform will create the scale and use it to transform the data.\n",
    "X_train[:, 3:] = sc.fit_transform(X_train[:, 3:]) \n",
    "# Here, we use the same scaler which is already fitted.Only transform is used on the test data.\n",
    "X_test[:, 3:] = sc.transform(X_test[:, 3:])"
   ]
  },
  {
   "cell_type": "code",
   "execution_count": 61,
   "id": "63860083",
   "metadata": {},
   "outputs": [
    {
     "name": "stdout",
     "output_type": "stream",
     "text": [
      "[[1.0 0.0 0.0 -1.4880221018481172 -1.587177132003664]\n",
      " [0.0 1.0 0.0 -0.9197534066585952 -1.3885040556749717]\n",
      " [0.0 0.0 1.0 2.111012967685522 1.9889382419127968]\n",
      " [0.0 1.0 0.0 -0.1620618130725658 -0.5938117503602027]\n",
      " [0.0 0.0 1.0 -0.5409076098655805 -0.5938117503602027]\n",
      " [1.0 0.0 0.0 1.353321374099493 0.2008805549545663]\n",
      " [0.0 1.0 0.0 0.21678398372044888 -0.9911579030175873]\n",
      " [1.0 0.0 0.0 0.7850526789099709 1.39291901292672]\n",
      " [0.0 1.0 0.0 -0.1936322961386499 0.2008805549545663]\n",
      " [0.0 1.0 0.0 -0.7303305082620878 -0.3951386740315105]\n",
      " [0.0 0.0 1.0 -0.5409076098655805 -0.19646559770281824]\n",
      " [0.0 0.0 1.0 -1.2985992034516098 0.39955363128325855]\n",
      " [0.0 1.0 0.0 1.353321374099493 1.591592089255412]\n",
      " [0.0 0.0 1.0 -0.3514847114690731 -0.030904700762240857]\n",
      " [0.0 0.0 1.0 0.4062068821169562 0.002207478625874037]]\n"
     ]
    }
   ],
   "source": [
    "print(X_train)"
   ]
  },
  {
   "cell_type": "code",
   "execution_count": 62,
   "id": "54bf37f5",
   "metadata": {},
   "outputs": [
    {
     "name": "stdout",
     "output_type": "stream",
     "text": [
      "[[1.0 0.0 0.0 -0.7303305082620878 0.5982267076119508]\n",
      " [0.0 1.0 0.0 -1.1091763050551025 0.7968997839406431]\n",
      " [0.0 0.0 1.0 -1.4880221018481172 -1.3885040556749717]\n",
      " [0.0 0.0 1.0 -0.3514847114690731 -0.5938117503602027]]\n"
     ]
    }
   ],
   "source": [
    "print(X_test)"
   ]
  },
  {
   "cell_type": "markdown",
   "id": "2ec76a73-bfb1-44ae-b800-506d6ffd5de9",
   "metadata": {},
   "source": [
    "## Training the Logistic Regression model on the Training set\n"
   ]
  },
  {
   "cell_type": "code",
   "execution_count": 63,
   "id": "69a7a483-e511-41b1-b70a-d4cb49cc7372",
   "metadata": {},
   "outputs": [
    {
     "data": {
      "text/html": [
       "<style>#sk-container-id-3 {\n",
       "  /* Definition of color scheme common for light and dark mode */\n",
       "  --sklearn-color-text: black;\n",
       "  --sklearn-color-line: gray;\n",
       "  /* Definition of color scheme for unfitted estimators */\n",
       "  --sklearn-color-unfitted-level-0: #fff5e6;\n",
       "  --sklearn-color-unfitted-level-1: #f6e4d2;\n",
       "  --sklearn-color-unfitted-level-2: #ffe0b3;\n",
       "  --sklearn-color-unfitted-level-3: chocolate;\n",
       "  /* Definition of color scheme for fitted estimators */\n",
       "  --sklearn-color-fitted-level-0: #f0f8ff;\n",
       "  --sklearn-color-fitted-level-1: #d4ebff;\n",
       "  --sklearn-color-fitted-level-2: #b3dbfd;\n",
       "  --sklearn-color-fitted-level-3: cornflowerblue;\n",
       "\n",
       "  /* Specific color for light theme */\n",
       "  --sklearn-color-text-on-default-background: var(--sg-text-color, var(--theme-code-foreground, var(--jp-content-font-color1, black)));\n",
       "  --sklearn-color-background: var(--sg-background-color, var(--theme-background, var(--jp-layout-color0, white)));\n",
       "  --sklearn-color-border-box: var(--sg-text-color, var(--theme-code-foreground, var(--jp-content-font-color1, black)));\n",
       "  --sklearn-color-icon: #696969;\n",
       "\n",
       "  @media (prefers-color-scheme: dark) {\n",
       "    /* Redefinition of color scheme for dark theme */\n",
       "    --sklearn-color-text-on-default-background: var(--sg-text-color, var(--theme-code-foreground, var(--jp-content-font-color1, white)));\n",
       "    --sklearn-color-background: var(--sg-background-color, var(--theme-background, var(--jp-layout-color0, #111)));\n",
       "    --sklearn-color-border-box: var(--sg-text-color, var(--theme-code-foreground, var(--jp-content-font-color1, white)));\n",
       "    --sklearn-color-icon: #878787;\n",
       "  }\n",
       "}\n",
       "\n",
       "#sk-container-id-3 {\n",
       "  color: var(--sklearn-color-text);\n",
       "}\n",
       "\n",
       "#sk-container-id-3 pre {\n",
       "  padding: 0;\n",
       "}\n",
       "\n",
       "#sk-container-id-3 input.sk-hidden--visually {\n",
       "  border: 0;\n",
       "  clip: rect(1px 1px 1px 1px);\n",
       "  clip: rect(1px, 1px, 1px, 1px);\n",
       "  height: 1px;\n",
       "  margin: -1px;\n",
       "  overflow: hidden;\n",
       "  padding: 0;\n",
       "  position: absolute;\n",
       "  width: 1px;\n",
       "}\n",
       "\n",
       "#sk-container-id-3 div.sk-dashed-wrapped {\n",
       "  border: 1px dashed var(--sklearn-color-line);\n",
       "  margin: 0 0.4em 0.5em 0.4em;\n",
       "  box-sizing: border-box;\n",
       "  padding-bottom: 0.4em;\n",
       "  background-color: var(--sklearn-color-background);\n",
       "}\n",
       "\n",
       "#sk-container-id-3 div.sk-container {\n",
       "  /* jupyter's `normalize.less` sets `[hidden] { display: none; }`\n",
       "     but bootstrap.min.css set `[hidden] { display: none !important; }`\n",
       "     so we also need the `!important` here to be able to override the\n",
       "     default hidden behavior on the sphinx rendered scikit-learn.org.\n",
       "     See: https://github.com/scikit-learn/scikit-learn/issues/21755 */\n",
       "  display: inline-block !important;\n",
       "  position: relative;\n",
       "}\n",
       "\n",
       "#sk-container-id-3 div.sk-text-repr-fallback {\n",
       "  display: none;\n",
       "}\n",
       "\n",
       "div.sk-parallel-item,\n",
       "div.sk-serial,\n",
       "div.sk-item {\n",
       "  /* draw centered vertical line to link estimators */\n",
       "  background-image: linear-gradient(var(--sklearn-color-text-on-default-background), var(--sklearn-color-text-on-default-background));\n",
       "  background-size: 2px 100%;\n",
       "  background-repeat: no-repeat;\n",
       "  background-position: center center;\n",
       "}\n",
       "\n",
       "/* Parallel-specific style estimator block */\n",
       "\n",
       "#sk-container-id-3 div.sk-parallel-item::after {\n",
       "  content: \"\";\n",
       "  width: 100%;\n",
       "  border-bottom: 2px solid var(--sklearn-color-text-on-default-background);\n",
       "  flex-grow: 1;\n",
       "}\n",
       "\n",
       "#sk-container-id-3 div.sk-parallel {\n",
       "  display: flex;\n",
       "  align-items: stretch;\n",
       "  justify-content: center;\n",
       "  background-color: var(--sklearn-color-background);\n",
       "  position: relative;\n",
       "}\n",
       "\n",
       "#sk-container-id-3 div.sk-parallel-item {\n",
       "  display: flex;\n",
       "  flex-direction: column;\n",
       "}\n",
       "\n",
       "#sk-container-id-3 div.sk-parallel-item:first-child::after {\n",
       "  align-self: flex-end;\n",
       "  width: 50%;\n",
       "}\n",
       "\n",
       "#sk-container-id-3 div.sk-parallel-item:last-child::after {\n",
       "  align-self: flex-start;\n",
       "  width: 50%;\n",
       "}\n",
       "\n",
       "#sk-container-id-3 div.sk-parallel-item:only-child::after {\n",
       "  width: 0;\n",
       "}\n",
       "\n",
       "/* Serial-specific style estimator block */\n",
       "\n",
       "#sk-container-id-3 div.sk-serial {\n",
       "  display: flex;\n",
       "  flex-direction: column;\n",
       "  align-items: center;\n",
       "  background-color: var(--sklearn-color-background);\n",
       "  padding-right: 1em;\n",
       "  padding-left: 1em;\n",
       "}\n",
       "\n",
       "\n",
       "/* Toggleable style: style used for estimator/Pipeline/ColumnTransformer box that is\n",
       "clickable and can be expanded/collapsed.\n",
       "- Pipeline and ColumnTransformer use this feature and define the default style\n",
       "- Estimators will overwrite some part of the style using the `sk-estimator` class\n",
       "*/\n",
       "\n",
       "/* Pipeline and ColumnTransformer style (default) */\n",
       "\n",
       "#sk-container-id-3 div.sk-toggleable {\n",
       "  /* Default theme specific background. It is overwritten whether we have a\n",
       "  specific estimator or a Pipeline/ColumnTransformer */\n",
       "  background-color: var(--sklearn-color-background);\n",
       "}\n",
       "\n",
       "/* Toggleable label */\n",
       "#sk-container-id-3 label.sk-toggleable__label {\n",
       "  cursor: pointer;\n",
       "  display: block;\n",
       "  width: 100%;\n",
       "  margin-bottom: 0;\n",
       "  padding: 0.5em;\n",
       "  box-sizing: border-box;\n",
       "  text-align: center;\n",
       "}\n",
       "\n",
       "#sk-container-id-3 label.sk-toggleable__label-arrow:before {\n",
       "  /* Arrow on the left of the label */\n",
       "  content: \"▸\";\n",
       "  float: left;\n",
       "  margin-right: 0.25em;\n",
       "  color: var(--sklearn-color-icon);\n",
       "}\n",
       "\n",
       "#sk-container-id-3 label.sk-toggleable__label-arrow:hover:before {\n",
       "  color: var(--sklearn-color-text);\n",
       "}\n",
       "\n",
       "/* Toggleable content - dropdown */\n",
       "\n",
       "#sk-container-id-3 div.sk-toggleable__content {\n",
       "  max-height: 0;\n",
       "  max-width: 0;\n",
       "  overflow: hidden;\n",
       "  text-align: left;\n",
       "  /* unfitted */\n",
       "  background-color: var(--sklearn-color-unfitted-level-0);\n",
       "}\n",
       "\n",
       "#sk-container-id-3 div.sk-toggleable__content.fitted {\n",
       "  /* fitted */\n",
       "  background-color: var(--sklearn-color-fitted-level-0);\n",
       "}\n",
       "\n",
       "#sk-container-id-3 div.sk-toggleable__content pre {\n",
       "  margin: 0.2em;\n",
       "  border-radius: 0.25em;\n",
       "  color: var(--sklearn-color-text);\n",
       "  /* unfitted */\n",
       "  background-color: var(--sklearn-color-unfitted-level-0);\n",
       "}\n",
       "\n",
       "#sk-container-id-3 div.sk-toggleable__content.fitted pre {\n",
       "  /* unfitted */\n",
       "  background-color: var(--sklearn-color-fitted-level-0);\n",
       "}\n",
       "\n",
       "#sk-container-id-3 input.sk-toggleable__control:checked~div.sk-toggleable__content {\n",
       "  /* Expand drop-down */\n",
       "  max-height: 200px;\n",
       "  max-width: 100%;\n",
       "  overflow: auto;\n",
       "}\n",
       "\n",
       "#sk-container-id-3 input.sk-toggleable__control:checked~label.sk-toggleable__label-arrow:before {\n",
       "  content: \"▾\";\n",
       "}\n",
       "\n",
       "/* Pipeline/ColumnTransformer-specific style */\n",
       "\n",
       "#sk-container-id-3 div.sk-label input.sk-toggleable__control:checked~label.sk-toggleable__label {\n",
       "  color: var(--sklearn-color-text);\n",
       "  background-color: var(--sklearn-color-unfitted-level-2);\n",
       "}\n",
       "\n",
       "#sk-container-id-3 div.sk-label.fitted input.sk-toggleable__control:checked~label.sk-toggleable__label {\n",
       "  background-color: var(--sklearn-color-fitted-level-2);\n",
       "}\n",
       "\n",
       "/* Estimator-specific style */\n",
       "\n",
       "/* Colorize estimator box */\n",
       "#sk-container-id-3 div.sk-estimator input.sk-toggleable__control:checked~label.sk-toggleable__label {\n",
       "  /* unfitted */\n",
       "  background-color: var(--sklearn-color-unfitted-level-2);\n",
       "}\n",
       "\n",
       "#sk-container-id-3 div.sk-estimator.fitted input.sk-toggleable__control:checked~label.sk-toggleable__label {\n",
       "  /* fitted */\n",
       "  background-color: var(--sklearn-color-fitted-level-2);\n",
       "}\n",
       "\n",
       "#sk-container-id-3 div.sk-label label.sk-toggleable__label,\n",
       "#sk-container-id-3 div.sk-label label {\n",
       "  /* The background is the default theme color */\n",
       "  color: var(--sklearn-color-text-on-default-background);\n",
       "}\n",
       "\n",
       "/* On hover, darken the color of the background */\n",
       "#sk-container-id-3 div.sk-label:hover label.sk-toggleable__label {\n",
       "  color: var(--sklearn-color-text);\n",
       "  background-color: var(--sklearn-color-unfitted-level-2);\n",
       "}\n",
       "\n",
       "/* Label box, darken color on hover, fitted */\n",
       "#sk-container-id-3 div.sk-label.fitted:hover label.sk-toggleable__label.fitted {\n",
       "  color: var(--sklearn-color-text);\n",
       "  background-color: var(--sklearn-color-fitted-level-2);\n",
       "}\n",
       "\n",
       "/* Estimator label */\n",
       "\n",
       "#sk-container-id-3 div.sk-label label {\n",
       "  font-family: monospace;\n",
       "  font-weight: bold;\n",
       "  display: inline-block;\n",
       "  line-height: 1.2em;\n",
       "}\n",
       "\n",
       "#sk-container-id-3 div.sk-label-container {\n",
       "  text-align: center;\n",
       "}\n",
       "\n",
       "/* Estimator-specific */\n",
       "#sk-container-id-3 div.sk-estimator {\n",
       "  font-family: monospace;\n",
       "  border: 1px dotted var(--sklearn-color-border-box);\n",
       "  border-radius: 0.25em;\n",
       "  box-sizing: border-box;\n",
       "  margin-bottom: 0.5em;\n",
       "  /* unfitted */\n",
       "  background-color: var(--sklearn-color-unfitted-level-0);\n",
       "}\n",
       "\n",
       "#sk-container-id-3 div.sk-estimator.fitted {\n",
       "  /* fitted */\n",
       "  background-color: var(--sklearn-color-fitted-level-0);\n",
       "}\n",
       "\n",
       "/* on hover */\n",
       "#sk-container-id-3 div.sk-estimator:hover {\n",
       "  /* unfitted */\n",
       "  background-color: var(--sklearn-color-unfitted-level-2);\n",
       "}\n",
       "\n",
       "#sk-container-id-3 div.sk-estimator.fitted:hover {\n",
       "  /* fitted */\n",
       "  background-color: var(--sklearn-color-fitted-level-2);\n",
       "}\n",
       "\n",
       "/* Specification for estimator info (e.g. \"i\" and \"?\") */\n",
       "\n",
       "/* Common style for \"i\" and \"?\" */\n",
       "\n",
       ".sk-estimator-doc-link,\n",
       "a:link.sk-estimator-doc-link,\n",
       "a:visited.sk-estimator-doc-link {\n",
       "  float: right;\n",
       "  font-size: smaller;\n",
       "  line-height: 1em;\n",
       "  font-family: monospace;\n",
       "  background-color: var(--sklearn-color-background);\n",
       "  border-radius: 1em;\n",
       "  height: 1em;\n",
       "  width: 1em;\n",
       "  text-decoration: none !important;\n",
       "  margin-left: 1ex;\n",
       "  /* unfitted */\n",
       "  border: var(--sklearn-color-unfitted-level-1) 1pt solid;\n",
       "  color: var(--sklearn-color-unfitted-level-1);\n",
       "}\n",
       "\n",
       ".sk-estimator-doc-link.fitted,\n",
       "a:link.sk-estimator-doc-link.fitted,\n",
       "a:visited.sk-estimator-doc-link.fitted {\n",
       "  /* fitted */\n",
       "  border: var(--sklearn-color-fitted-level-1) 1pt solid;\n",
       "  color: var(--sklearn-color-fitted-level-1);\n",
       "}\n",
       "\n",
       "/* On hover */\n",
       "div.sk-estimator:hover .sk-estimator-doc-link:hover,\n",
       ".sk-estimator-doc-link:hover,\n",
       "div.sk-label-container:hover .sk-estimator-doc-link:hover,\n",
       ".sk-estimator-doc-link:hover {\n",
       "  /* unfitted */\n",
       "  background-color: var(--sklearn-color-unfitted-level-3);\n",
       "  color: var(--sklearn-color-background);\n",
       "  text-decoration: none;\n",
       "}\n",
       "\n",
       "div.sk-estimator.fitted:hover .sk-estimator-doc-link.fitted:hover,\n",
       ".sk-estimator-doc-link.fitted:hover,\n",
       "div.sk-label-container:hover .sk-estimator-doc-link.fitted:hover,\n",
       ".sk-estimator-doc-link.fitted:hover {\n",
       "  /* fitted */\n",
       "  background-color: var(--sklearn-color-fitted-level-3);\n",
       "  color: var(--sklearn-color-background);\n",
       "  text-decoration: none;\n",
       "}\n",
       "\n",
       "/* Span, style for the box shown on hovering the info icon */\n",
       ".sk-estimator-doc-link span {\n",
       "  display: none;\n",
       "  z-index: 9999;\n",
       "  position: relative;\n",
       "  font-weight: normal;\n",
       "  right: .2ex;\n",
       "  padding: .5ex;\n",
       "  margin: .5ex;\n",
       "  width: min-content;\n",
       "  min-width: 20ex;\n",
       "  max-width: 50ex;\n",
       "  color: var(--sklearn-color-text);\n",
       "  box-shadow: 2pt 2pt 4pt #999;\n",
       "  /* unfitted */\n",
       "  background: var(--sklearn-color-unfitted-level-0);\n",
       "  border: .5pt solid var(--sklearn-color-unfitted-level-3);\n",
       "}\n",
       "\n",
       ".sk-estimator-doc-link.fitted span {\n",
       "  /* fitted */\n",
       "  background: var(--sklearn-color-fitted-level-0);\n",
       "  border: var(--sklearn-color-fitted-level-3);\n",
       "}\n",
       "\n",
       ".sk-estimator-doc-link:hover span {\n",
       "  display: block;\n",
       "}\n",
       "\n",
       "/* \"?\"-specific style due to the `<a>` HTML tag */\n",
       "\n",
       "#sk-container-id-3 a.estimator_doc_link {\n",
       "  float: right;\n",
       "  font-size: 1rem;\n",
       "  line-height: 1em;\n",
       "  font-family: monospace;\n",
       "  background-color: var(--sklearn-color-background);\n",
       "  border-radius: 1rem;\n",
       "  height: 1rem;\n",
       "  width: 1rem;\n",
       "  text-decoration: none;\n",
       "  /* unfitted */\n",
       "  color: var(--sklearn-color-unfitted-level-1);\n",
       "  border: var(--sklearn-color-unfitted-level-1) 1pt solid;\n",
       "}\n",
       "\n",
       "#sk-container-id-3 a.estimator_doc_link.fitted {\n",
       "  /* fitted */\n",
       "  border: var(--sklearn-color-fitted-level-1) 1pt solid;\n",
       "  color: var(--sklearn-color-fitted-level-1);\n",
       "}\n",
       "\n",
       "/* On hover */\n",
       "#sk-container-id-3 a.estimator_doc_link:hover {\n",
       "  /* unfitted */\n",
       "  background-color: var(--sklearn-color-unfitted-level-3);\n",
       "  color: var(--sklearn-color-background);\n",
       "  text-decoration: none;\n",
       "}\n",
       "\n",
       "#sk-container-id-3 a.estimator_doc_link.fitted:hover {\n",
       "  /* fitted */\n",
       "  background-color: var(--sklearn-color-fitted-level-3);\n",
       "}\n",
       "</style><div id=\"sk-container-id-3\" class=\"sk-top-container\"><div class=\"sk-text-repr-fallback\"><pre>LogisticRegression(random_state=0)</pre><b>In a Jupyter environment, please rerun this cell to show the HTML representation or trust the notebook. <br />On GitHub, the HTML representation is unable to render, please try loading this page with nbviewer.org.</b></div><div class=\"sk-container\" hidden><div class=\"sk-item\"><div class=\"sk-estimator fitted sk-toggleable\"><input class=\"sk-toggleable__control sk-hidden--visually\" id=\"sk-estimator-id-3\" type=\"checkbox\" checked><label for=\"sk-estimator-id-3\" class=\"sk-toggleable__label fitted sk-toggleable__label-arrow fitted\">&nbsp;&nbsp;LogisticRegression<a class=\"sk-estimator-doc-link fitted\" rel=\"noreferrer\" target=\"_blank\" href=\"https://scikit-learn.org/1.5/modules/generated/sklearn.linear_model.LogisticRegression.html\">?<span>Documentation for LogisticRegression</span></a><span class=\"sk-estimator-doc-link fitted\">i<span>Fitted</span></span></label><div class=\"sk-toggleable__content fitted\"><pre>LogisticRegression(random_state=0)</pre></div> </div></div></div></div>"
      ],
      "text/plain": [
       "LogisticRegression(random_state=0)"
      ]
     },
     "execution_count": 63,
     "metadata": {},
     "output_type": "execute_result"
    }
   ],
   "source": [
    "from sklearn.linear_model import LogisticRegression\n",
    "classifier = LogisticRegression(random_state = 0)\n",
    "classifier.fit(X_train, y_train)"
   ]
  },
  {
   "cell_type": "markdown",
   "id": "0c6aeb17-22e3-4e3e-a90d-ad881f273b89",
   "metadata": {},
   "source": [
    "## Predicting a new result"
   ]
  },
  {
   "cell_type": "code",
   "execution_count": 64,
   "id": "9b447c05-9115-4db1-9e72-57b64c01bf7c",
   "metadata": {},
   "outputs": [
    {
     "name": "stdout",
     "output_type": "stream",
     "text": [
      "[[    1     0     0    42 45000]]\n",
      "<class 'numpy.ndarray'>\n",
      "[[1 0 0 0 1]]\n",
      "<class 'numpy.ndarray'>\n",
      "[1]\n",
      "<class 'numpy.ndarray'>\n"
     ]
    }
   ],
   "source": [
    "# Manually add new value\n",
    "new_value = np.array([[1,0,0,42,45000]])\n",
    "print(new_value)\n",
    "print(type(new_value))\n",
    "# Scale value\n",
    "new_value[:, 3:] = sc.transform(new_value[:, 3:]) # Note that transform are being used here.\n",
    "print(new_value)\n",
    "print(type(new_value))\n",
    "# predict the value\n",
    "pred_new_value = classifier.predict(new_value)\n",
    "print(pred_new_value)\n",
    "print(type(pred_new_value))"
   ]
  },
  {
   "cell_type": "markdown",
   "id": "a4a2c74c-fd0c-4ea1-a8a5-b750130ed8ff",
   "metadata": {},
   "source": [
    "## Predicting the Test set results"
   ]
  },
  {
   "cell_type": "code",
   "execution_count": 65,
   "id": "cda52508-0fb6-4e76-8c65-5f971b9d50e4",
   "metadata": {},
   "outputs": [
    {
     "name": "stdout",
     "output_type": "stream",
     "text": [
      "Prediction, Actual\n",
      "[[1 1]\n",
      " [0 1]\n",
      " [0 0]\n",
      " [0 0]]\n"
     ]
    }
   ],
   "source": [
    "y_pred = classifier.predict(X_test)\n",
    "print(\"Prediction, Actual\")\n",
    "print(np.concatenate((y_pred.reshape(len(y_pred),1), y_test.reshape(len(y_test),1)),1))"
   ]
  },
  {
   "cell_type": "markdown",
   "id": "a5340487-4afa-40b3-bf5a-8505dff5637c",
   "metadata": {},
   "source": [
    "## Making the Confusion Matrix"
   ]
  },
  {
   "cell_type": "code",
   "execution_count": 66,
   "id": "408c2d3e-d698-415d-9858-c0ed7c25d84f",
   "metadata": {},
   "outputs": [
    {
     "name": "stdout",
     "output_type": "stream",
     "text": [
      "[[2 0]\n",
      " [1 1]]\n"
     ]
    },
    {
     "data": {
      "text/plain": [
       "0.75"
      ]
     },
     "execution_count": 66,
     "metadata": {},
     "output_type": "execute_result"
    }
   ],
   "source": [
    "from sklearn.metrics import confusion_matrix, accuracy_score\n",
    "cm = confusion_matrix(y_test, y_pred)\n",
    "print(cm)\n",
    "accuracy_score(y_test, y_pred)"
   ]
  },
  {
   "cell_type": "markdown",
   "id": "a7a634f9-34ed-454f-815b-0ebbb26fedf1",
   "metadata": {},
   "source": [
    "|         | Pred. Neg. | Pred. Pos. |\n",
    "| --------| ---------- | ---------- |\n",
    "| Act. Neg. | **2** | 0 |\n",
    "| Act. Pos. | 1 | **1** |"
   ]
  }
 ],
 "metadata": {
  "kernelspec": {
   "display_name": "Python 3",
   "language": "python",
   "name": "python3"
  },
  "language_info": {
   "codemirror_mode": {
    "name": "ipython",
    "version": 3
   },
   "file_extension": ".py",
   "mimetype": "text/x-python",
   "name": "python",
   "nbconvert_exporter": "python",
   "pygments_lexer": "ipython3",
   "version": "3.12.0"
  }
 },
 "nbformat": 4,
 "nbformat_minor": 5
}
